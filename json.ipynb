{
 "cells": [
  {
   "cell_type": "code",
   "execution_count": 1,
   "metadata": {},
   "outputs": [
    {
     "name": "stdout",
     "output_type": "stream",
     "text": [
      "Requirement already satisfied: lark-parser in /home/chips/.local/lib/python3.7/site-packages (0.7.2)\r\n"
     ]
    }
   ],
   "source": [
    "import sys\n",
    "if sys.version_info < (3, 6):\n",
    "    raise ValueError('Você precisa de Python 3.6+ para continuar')\n",
    "\n",
    "!pip3 install lark-parser"
   ]
  },
  {
   "cell_type": "markdown",
   "metadata": {},
   "source": [
    "\n",
    "# Tutorial de Lark/JSON\n",
    "\n",
    "Baseado em: https://github.com/lark-parser/lark/blob/master/docs/json_tutorial.md\n",
    "\n",
    "Lark é um parser (analisador sintático), ou seja, um programa que aceita uma gramática e uma string de texto e produz uma árvore estruturada que representa esta string. Neste tutorial, escreveremos um analisador JSON no Lark e exploraremos os vários recursos do Lark no processo.\n",
    "\n",
    "Este tutorial tem 5 partes.\n",
    "\n",
    "1. Escrevendo a gramática\n",
    "2. Criando o analisador\n",
    "3. Moldando a árvore\n",
    "4. Avaliando a árvore\n",
    "5. Otimizando\n",
    "\n",
    "Conhecimento assumido:\n",
    "\n",
    "1. Python básico\n",
    "2. Um entendimento básico de como usar expressões regulares\n",
    "\n",
    "\n",
    "## Parte 1 - A Gramática\n",
    "\n",
    "Lark aceita gramáticas em um formato chamado EBNF. Basicamente, é assim:\n",
    "\n",
    "```\n",
    "rule_name : lista de regras e TERMINAIS\n",
    "          | outra lista possível de itens\n",
    "          | etc.\n",
    "TERMINAL  : \"texto ou padrão comparado diretamente com o texto de entrada\"\n",
    "```\n",
    "*(um terminal é uma string ou uma expressão regular)*\n",
    "\n",
    "O analisador sintático tentará casar cada regra (parte esquerda), combinando seus itens (parte direita) sequencialmente, tentando cada alternativa e a partir daí construir uma expressão válida (na prática, o analisador é preditivo, portanto, não precisamos tentar todas as alternativas possíveis).\n",
    "\n",
    "Como estruturar essas regras está além do escopo deste tutorial, mas geralmente é suficiente seguir a intuição. No caso do JSON, a estrutura é simples: um documento json é uma lista, um dicionário ou uma string, número, booleano etc. Os dicionários e listas são recursivos e contêm outros valores JSON que podem ser aninhados de forma arbitrária.\n",
    "\n",
    "Vamos escrever essa estrutura no formato EBNF:\n",
    "\n",
    "```\n",
    "valor  : objeto\n",
    "       | lista\n",
    "       | STRING\n",
    "       | NUMERO\n",
    "       | \"true\" \n",
    "       | \"false\" \n",
    "       | \"null\"\n",
    " \n",
    "lista  : \"[\" [valor (\",\" valor) *] \"]\"\n",
    "objeto : \"{\" [par (\",\" par) *] \"}\"\n",
    "par    : STRING \":\" valor\n",
    "```\n",
    "\n",
    "Uma explicação rápida da sintaxe:\n",
    "\n",
    "* Parênteses agrupam regras\n",
    "* ``regra*`` significa zero ou mais repetições de uma regra.\n",
    "* ``[regra]`` ou ``regra?`` significa que a regra é opcional (ou seja, pode aparecer ou não no texto).\n",
    "* ``regra+`` significa uma ou mais repetições da regra.\n",
    "* ``` `\n",
    "\n",
    "Obviamente, ainda não definimos \"STRING\" e \"NUMBER\". Felizmente, esses dois literais já estão definidos na biblioteca comum de Lark e não precisamos escrever as regras explicitamente na gramática do Lark. https://json.org/ mostra a gramática do JSON e podemos ver que as regras para números e strings são justamente as mais complicadas da especificação.\n",
    "\n",
    "```\n",
    "%import common.ESCAPED_STRING -> STRING\n",
    "%import common.SIGNED_NUMBER -> NUMERO\n",
    "```\n",
    "\n",
    "A seta (->) renomeia os terminais e usamos isto para utilizar nomes mas adequados que os escolhidos na biblioteca padrão. Também precisamos definir espaço em branco, que faz parte do texto. JSON ignora espaços em branco entre símbolos e podemos dizer para o Lark para ignorá-los quando aparecerem entre símbolos terminais ou não-terminais da gramática.\n",
    "\n",
    "```\n",
    "%import common.WS\n",
    "%ignore WS\n",
    "```\n",
    "\n",
    "A propósito, se você está curioso para saber o que esses terminais significam, eles são aproximadamente equivalentes às expressões regulares\n",
    "\n",
    "```\n",
    "NUMBER : /-?\\d+(\\.\\d+)?([eE][+-]?\\d+)?/\n",
    "STRING : /\".*?(?<!\\\\)\"/\n",
    "WS     : /[ \\t\\n\\f\\r]+/\n",
    "```\n",
    "\n",
    "Lark aceita isso, se você realmente quer complicar sua vida :)\n",
    "\n",
    "As definições originais em common.lark não aderem estritamente ao json.org - mas nosso objetivo aqui é aceitar o json, não validá-lo. Na realidade elas aceitam todos JSON válidos, mas não rejeitam alguns documentos JSON inválidos.\n",
    "\n",
    "Observe que os terminais são escritos em MAIÚSCULAS, enquanto as regras não-terminais são escritas em minúsculas. Falaremos mais sobre as diferenças entre regras e terminais mais tarde."
   ]
  },
  {
   "cell_type": "markdown",
   "metadata": {},
   "source": [
    "### EXERCÍCIO\n",
    "\n",
    "Implemente a gramática JSON mostrada acima utilizando o Lark"
   ]
  },
  {
   "cell_type": "code",
   "execution_count": 2,
   "metadata": {},
   "outputs": [],
   "source": [
    "from lark import Lark\n",
    "\n",
    "json_parser = Lark(r\"\"\"\n",
    "valor : \"null\" // Coloque o resto da gramática do JSON aqui!\n",
    "\"\"\", start=\"valor\")"
   ]
  },
  {
   "cell_type": "code",
   "execution_count": 3,
   "metadata": {},
   "outputs": [
    {
     "name": "stdout",
     "output_type": "stream",
     "text": [
      "valor\n",
      "\n"
     ]
    }
   ],
   "source": [
    "# Exemplo\n",
    "tree = json_parser.parse('null')\n",
    "print(tree.pretty())"
   ]
  },
  {
   "cell_type": "code",
   "execution_count": 4,
   "metadata": {},
   "outputs": [
    {
     "ename": "SyntaxError",
     "evalue": "EOL while scanning string literal (<ipython-input-4-5439781ae1a2>, line 4)",
     "output_type": "error",
     "traceback": [
      "\u001b[0;36m  File \u001b[0;32m\"<ipython-input-4-5439781ae1a2>\"\u001b[0;36m, line \u001b[0;32m4\u001b[0m\n\u001b[0;31m    exemplo_3 = '[{\"x\": 1, \"y\": 42}, {\"x\": 0, \"y\": 0}]\u001b[0m\n\u001b[0m                                                      ^\u001b[0m\n\u001b[0;31mSyntaxError\u001b[0m\u001b[0;31m:\u001b[0m EOL while scanning string literal\n"
     ]
    }
   ],
   "source": [
    "# Mais testes ...\n",
    "exemplo_1 = \"[1, 2, 3, 4]\"\n",
    "exemplo_2 = '{\"x\": 1, \"y\": 42}'\n",
    "exemplo_3 = '[{\"x\": 1, \"y\": 42}, {\"x\": 0, \"y\": 0}]\n",
    "\n",
    "json = exemplo_1\n",
    "tree = json_parser.parse(json)\n",
    "print(tree.pretty())"
   ]
  },
  {
   "cell_type": "markdown",
   "metadata": {},
   "source": [
    "## Parte 2 - Criando o analisador\n",
    "\n",
    "Depois de criar nossa gramática, criar o analisador é muito simples. Na verdade, se vocë conseguiu resolver o\n",
    "exercício anterior, você já sabe tudo que esta seção vai falar.\n",
    "\n",
    "Simplesmente instanciamos Lark e dizemos para aceitar um \"valor\":"
   ]
  },
  {
   "cell_type": "code",
   "execution_count": null,
   "metadata": {},
   "outputs": [],
   "source": [
    "from lark import Lark\n",
    "\n",
    "json_parser = Lark(r\"\"\"\n",
    "valor  : objeto\n",
    "       | lista\n",
    "       | STRING\n",
    "       | NUMERO\n",
    "       | \"true\" \n",
    "       | \"false\" \n",
    "       | \"null\"\n",
    "\n",
    "lista  : \"[\" [valor (\",\" valor) *] \"]\"\n",
    "objeto : \"{\" [par (\",\" par) *] \"}\"\n",
    "par    : STRING \":\" valor\n",
    "\n",
    "%import common.ESCAPED_STRING -> STRING\n",
    "%import common.SIGNED_NUMBER -> NUMERO\n",
    "%import common.WS\n",
    "%ignore WS\n",
    "\"\"\", start='valor')"
   ]
  },
  {
   "cell_type": "markdown",
   "metadata": {},
   "source": [
    "É simples assim! Vamos testá-lo:"
   ]
  },
  {
   "cell_type": "code",
   "execution_count": null,
   "metadata": {},
   "outputs": [],
   "source": [
    "json = '{\"key\": [\"item0\", \"item1\", 3,14]}'\n",
    "tree = json_parser.parse(json)\n",
    "tree"
   ]
  },
  {
   "cell_type": "markdown",
   "metadata": {},
   "source": [
    "Podemos mostrar uma versão \"melhorada\" da árvore como o método `.pretty()` das árvores."
   ]
  },
  {
   "cell_type": "code",
   "execution_count": null,
   "metadata": {},
   "outputs": [],
   "source": [
    "print(tree.pretty())"
   ]
  },
  {
   "cell_type": "markdown",
   "metadata": {},
   "source": [
    "Conforme prometido, o Lark cria automaticamente uma árvore que representa o texto analisado. Mas algo está faltando nesta árvore. Onde estão as chaves, vírgulas e todos os outros literais de pontuação?\n",
    "\n",
    "O Lark filtra automaticamente os literais da árvore com base nos seguintes critérios:\n",
    "\n",
    "* Remove terminais sem nome que aparecem como strings literais (ex., o `:` na regra `STRING \":\" valor`).\n",
    "* Remove terminais cujo nome começa com um sublinhado.\n",
    "* Mantêm expressões regulares, mesmo as sem nome, a menos que o nome comece com um sublinhado.\n",
    "\n",
    "Infelizmente, isso significa que ele também filtrará literais como \"true\" e \"false\", e perderemos essa informação. A próxima seção, \"Moldando a árvore\", trata desse problema e de outros.\n",
    "\n",
    "\n",
    "##  Parte 3 - Moldando a árvore\n",
    "\n",
    "Agora temos um analisador sintático que cria uma árvore sintática abstrata (ou: AST, do inglës *abstract syntax tree*), mas a árvore tem alguns problemas:\n",
    "\n",
    "* \"true\", \"false\" e \"null\" são filtrados (teste você mesmo!)\n",
    "* Árvore tem ramos inúteis, como valor, que atrapalham nossa visão.\n",
    "\n",
    "Vou apresentar a solução e depois explicá-la:\n",
    "\n",
    "```\n",
    "?valor : objeto\n",
    "       | lista\n",
    "       | STRING  -> string \n",
    "       | NUMERO  -> numero\n",
    "       | \"true\"  -> true\n",
    "       | \"false\" -> false\n",
    "       | \"null\"  -> null\n",
    "\n",
    "...\n",
    "```\n",
    "\n",
    "1. As setas `->` denotam apelidos, que são nomes alternativos para uma regra específica. Nesse caso, nomearemos \"true\" / \"false\" / \"null\" para não perdermos informação sobre estes valores. Também apelidamos STRING e NUMERO para processá-los mais tarde.\n",
    "\n",
    "2. O ponto de interrogação antes de uma regra (`?valor`) diz ao construtor de árvores para substituir um nó de valor pelo nó filho se ele tiver apenas um membro. Na nossa gramática, \"valor\" sempre possui apenas um membro e sempre será incorporado."
   ]
  },
  {
   "cell_type": "markdown",
   "metadata": {},
   "source": [
    "### EXERCÍCIO\n",
    "\n",
    "Recrie a gramática com as novas alterações mostradas acima. Teste a gramática com o seguinte documento,\n",
    "\n",
    "```json\n",
    "{\"key\": [\"item0\", \"item1\", 3.14, true]}\n",
    "```\n",
    "\n",
    "o resultado deve ser uma árvore com o formato abaixo\n",
    "\n",
    "```\n",
    "objeto\n",
    "  par\n",
    "    string\t\"key\"\n",
    "    lista\n",
    "      string\t\"item0\"\n",
    "      string\t\"item1\"\n",
    "      numero\t3.14\n",
    "      true\n",
    "```"
   ]
  },
  {
   "cell_type": "code",
   "execution_count": 6,
   "metadata": {
    "hideCode": true
   },
   "outputs": [],
   "source": [
    "json_parser = Lark(r\"\"\"\n",
    "?valor : objeto\n",
    "       | lista\n",
    "       | STRING  -> string\n",
    "       | NUMERO  -> numero\n",
    "       | \"true\"  -> true\n",
    "       | \"false\" -> false\n",
    "       | \"null\"  -> null\n",
    "\n",
    "lista  : \"[\" [valor (\",\" valor) *] \"]\"\n",
    "objeto : \"{\" [par (\",\" par) *] \"}\"\n",
    "par    : STRING \":\" valor\n",
    "\n",
    "%import common.ESCAPED_STRING -> STRING\n",
    "%import common.SIGNED_NUMBER -> NUMERO\n",
    "%import common.WS\n",
    "%ignore WS\n",
    "\"\"\", start='valor')"
   ]
  },
  {
   "cell_type": "code",
   "execution_count": null,
   "metadata": {},
   "outputs": [],
   "source": [
    "# Crie sua gramática aqui!\n",
    "\n",
    "json_parser = ...\n",
    "\n",
    "tree = json_parser.parse('{\"key\": [\"item0\", \"item1\", 3.14, true]}')\n",
    "print(tree.pretty())"
   ]
  },
  {
   "cell_type": "markdown",
   "metadata": {},
   "source": [
    "## Parte 4 - Avaliando a árvore\n",
    "\n",
    "É bom ter uma árvore sintática, mas o que realmente queremos é um objeto JSON. A maneira de fazer isso é transformar a árvore, usando a classse Transformer.\n",
    "\n",
    "Um transformador é uma classe com métodos correspondentes aos nomes das regras não-terminais. Para cada ramificação, o método apropriado será chamado com os filhos da ramificação como argumento e seu valor de retorno substituirá a ramificação na árvore.\n",
    "\n",
    "Vamos escrever um transformador parcial, que lida com os valores atômicos"
   ]
  },
  {
   "cell_type": "code",
   "execution_count": 7,
   "metadata": {},
   "outputs": [],
   "source": [
    "from lark import InlineTransformer\n",
    "\n",
    "class JSONTransformer(InlineTransformer):\n",
    "    def string(self, st):\n",
    "        return st[1:-1]  # remove as aspas\n",
    "    \n",
    "    def numero(self, n):\n",
    "        return float(n)    \n",
    "    \n",
    "    def true(self): \n",
    "        return True\n",
    "    \n",
    "    def false(self): \n",
    "        return False\n",
    "    \n",
    "    def null(self): \n",
    "        return None"
   ]
  },
  {
   "cell_type": "markdown",
   "metadata": {},
   "source": [
    "E quando executamos, obtemos o seguinte:"
   ]
  },
  {
   "cell_type": "code",
   "execution_count": 8,
   "metadata": {},
   "outputs": [
    {
     "name": "stdout",
     "output_type": "stream",
     "text": [
      "objeto\n",
      "  par\n",
      "    \"key\"\n",
      "    lista\n",
      "      item0\n",
      "      item1\n",
      "      3.14\n",
      "      True\n",
      "\n"
     ]
    }
   ],
   "source": [
    "tree = json_parser.parse('{\"key\": [\"item0\", \"item1\", 3.14, true]}')\n",
    "\n",
    "transformer = JSONTransformer()\n",
    "new = transformer.transform(tree)\n",
    "print(new.pretty())"
   ]
  },
  {
   "cell_type": "markdown",
   "metadata": {},
   "source": [
    "Parece bom :)\n",
    "\n",
    "Vamos escrever um transformador completo que também possa lida com valores compostos como listas e objetos. O `InlineTransformer` do Lark chama cada função correspondente a uma regra de produção não-terminal com o número de argumentos igual ao número de filhos. Assim, o exemplo anterior chamaria a regra de lista com 4 argumentos correspondendo a \"item0\", \"item1\", 3.14 e True. \n",
    "\n",
    "Em Python, podemos dizer que uma função recebe um número variável de argumentos usando a notação de \"splice\". \n",
    "Basta escrever o nome do último argumento prefixado com um asterisco e o Python construirá uma tupla com todos os argumentos adicionais passados para a função."
   ]
  },
  {
   "cell_type": "code",
   "execution_count": 9,
   "metadata": {},
   "outputs": [
    {
     "data": {
      "text/plain": [
       "10"
      ]
     },
     "execution_count": 9,
     "metadata": {},
     "output_type": "execute_result"
    }
   ],
   "source": [
    "def soma(x, y, *args):\n",
    "    # Args é uma tupla que guarda todos argumentos adicionais\n",
    "    return x + y + sum(args)\n",
    "\n",
    "# Teste alguns casos\n",
    "soma(1, 2, 3, 4)"
   ]
  },
  {
   "cell_type": "markdown",
   "metadata": {},
   "source": [
    "Vamos usar isto para criar nosso transformer (aproveitamos e convertemos algumas funções para lambdas, que são uma sintaxe alternativa para funções simples em Python)."
   ]
  },
  {
   "cell_type": "code",
   "execution_count": 10,
   "metadata": {},
   "outputs": [],
   "source": [
    "from lark import InlineTransformer\n",
    "\n",
    "class JSONTransformer(InlineTransformer):\n",
    "    # Os lambdas fazem o mesmo que as funções definidas anteriormente\n",
    "    string = lambda _, st: st[1:-1]  # remove as aspas\n",
    "    numero = float\n",
    "    true = lambda _: True\n",
    "    false = lambda _: False\n",
    "    null = lambda _: None\n",
    "\n",
    "    def lista(self, *itens):\n",
    "        return list(itens)\n",
    "    \n",
    "    def par(self, chave, valor):\n",
    "        return (self.string(chave), valor)\n",
    "    \n",
    "    def objeto(self, *pares):\n",
    "        return dict(pares)"
   ]
  },
  {
   "cell_type": "markdown",
   "metadata": {},
   "source": [
    "E quando executamos..."
   ]
  },
  {
   "cell_type": "code",
   "execution_count": 11,
   "metadata": {},
   "outputs": [
    {
     "data": {
      "text/plain": [
       "{'key': ['item0', 'item1', 3.14, True]}"
      ]
     },
     "execution_count": 11,
     "metadata": {},
     "output_type": "execute_result"
    }
   ],
   "source": [
    "tree = json_parser.parse('{\"key\": [\"item0\", \"item1\", 3.14, true]}')\n",
    "\n",
    "transformer = JSONTransformer()\n",
    "transformer.transform(tree)"
   ]
  },
  {
   "cell_type": "markdown",
   "metadata": {},
   "source": [
    "Ótimo ;-)"
   ]
  },
  {
   "cell_type": "markdown",
   "metadata": {},
   "source": [
    "## Parte 5 - Otimizando\n",
    "\n",
    "### Etapa 1 - Referência\n",
    "\n",
    "Até agora, temos um analisador JSON totalmente funcional, que aceita uma string JSON e retorna sua representação Pythonica. Mas qual é a velocidade?\n",
    "\n",
    "Existem, é claro,bibliotecas JSON para Python escritas em C e nunca podemos competir com elas. Isso é aplicável a qualquer analisador que você escreveria em Lark, mas vamos testar os limites onde o Lark pode chegar.\n",
    "\n",
    "O primeiro passo para otimizar é ter uma referência. Para fazer o benchmark, vamos pegar os dados do https://www.json-generator.com/. Mudando `{{repeat(5, 7)}` para `{{repeat(1000)}`, gera um arquivo JSON de aproximadamente 1,0MB. Baixamos este arquivo e salvamos como `teste.json`.\n",
    "\n",
    "Vamos medir o tempo de execução para processar este arquivo com o Lark e comparar com a biblioteca padrão do Python."
   ]
  },
  {
   "cell_type": "code",
   "execution_count": 12,
   "metadata": {},
   "outputs": [],
   "source": [
    "import json\n",
    "\n",
    "data = open('teste.json').read()"
   ]
  },
  {
   "cell_type": "code",
   "execution_count": 13,
   "metadata": {},
   "outputs": [
    {
     "name": "stdout",
     "output_type": "stream",
     "text": [
      "17.5 ms ± 0 ns per loop (mean ± std. dev. of 1 run, 1 loop each)\n"
     ]
    }
   ],
   "source": [
    "# Testamos o json\n",
    "\n",
    "%timeit -n1 -r1 json.loads(data)"
   ]
  },
  {
   "cell_type": "code",
   "execution_count": 14,
   "metadata": {},
   "outputs": [
    {
     "name": "stdout",
     "output_type": "stream",
     "text": [
      "23.5 s ± 0 ns per loop (mean ± std. dev. of 1 run, 1 loop each)\n"
     ]
    }
   ],
   "source": [
    "# Agora o Lark\n",
    "def loads(json):\n",
    "    tree = json_parser.parse(json)\n",
    "    return JSONTransformer().transform(tree)\n",
    "\n",
    "%timeit -n1 -r1 loads(data)"
   ]
  },
  {
   "cell_type": "code",
   "execution_count": 15,
   "metadata": {},
   "outputs": [],
   "source": [
    "grammar = r\"\"\"\n",
    "valor  : objeto\n",
    "       | lista\n",
    "       | STRING\n",
    "       | NUMERO\n",
    "       | \"true\" \n",
    "       | \"false\" \n",
    "       | \"null\"\n",
    "\n",
    "lista  : \"[\" [valor (\",\" valor) *] \"]\"\n",
    "objeto : \"{\" [par (\",\" par) *] \"}\"\n",
    "par    : STRING \":\" valor\n",
    "\n",
    "%import common.ESCAPED_STRING -> STRING\n",
    "%import common.SIGNED_NUMBER -> NUMERO\n",
    "%import common.WS\n",
    "%ignore WS\n",
    "\"\"\"\n",
    "\n",
    "json_parser = Lark(grammar, start=\"valor\", parser=\"lalr\")"
   ]
  },
  {
   "cell_type": "code",
   "execution_count": 16,
   "metadata": {},
   "outputs": [
    {
     "name": "stdout",
     "output_type": "stream",
     "text": [
      "2.16 s ± 0 ns per loop (mean ± std. dev. of 1 run, 1 loop each)\n"
     ]
    }
   ],
   "source": [
    "# Agora o Lark\n",
    "def loads(json):\n",
    "    tree = json_parser.parse(json)\n",
    "    return JSONTransformer().transform(tree)\n",
    "\n",
    "%timeit -n1 -r1 loads(data)"
   ]
  },
  {
   "cell_type": "code",
   "execution_count": 17,
   "metadata": {},
   "outputs": [
    {
     "name": "stdout",
     "output_type": "stream",
     "text": [
      "1.96 s ± 0 ns per loop (mean ± std. dev. of 1 run, 1 loop each)\n"
     ]
    }
   ],
   "source": [
    "json_parser = Lark(grammar, start=\"valor\", parser=\"lalr\", transformer=JSONTransformer())\n",
    "\n",
    "# Agora o Lark\n",
    "def loads(json):\n",
    "    return json_parser.parse(json)\n",
    "\n",
    "%timeit -n1 -r1 loads(data)"
   ]
  },
  {
   "cell_type": "code",
   "execution_count": null,
   "metadata": {},
   "outputs": [],
   "source": []
  }
 ],
 "metadata": {
  "celltoolbar": "Hide code",
  "kernelspec": {
   "display_name": "Python 3",
   "language": "python",
   "name": "python3"
  },
  "language_info": {
   "codemirror_mode": {
    "name": "ipython",
    "version": 3
   },
   "file_extension": ".py",
   "mimetype": "text/x-python",
   "name": "python",
   "nbconvert_exporter": "python",
   "pygments_lexer": "ipython3",
   "version": "3.7.4"
  }
 },
 "nbformat": 4,
 "nbformat_minor": 2
}
